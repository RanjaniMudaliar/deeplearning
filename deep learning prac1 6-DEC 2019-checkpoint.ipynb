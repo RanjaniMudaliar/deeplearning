{
 "cells": [
  {
   "cell_type": "code",
   "execution_count": 6,
   "metadata": {},
   "outputs": [
    {
     "name": "stdout",
     "output_type": "stream",
     "text": [
      "Shakesphere gave the best theatrics to the world\n"
     ]
    }
   ],
   "source": [
    "#print single line in python\n",
    "S=\"Shakesphere gave the best theatrics to the world\"\n",
    "print (S) "
   ]
  },
  {
   "cell_type": "code",
   "execution_count": 1,
   "metadata": {},
   "outputs": [
    {
     "name": "stdout",
     "output_type": "stream",
     "text": [
      "What a piece of work is man, How noble in reason, how infinite in faculty, In form and moving how express and admirable, In action how like an Angel, In apprehension how like a god, The beauty of the world, The paragon of animals. And yet to me, what is this quintessence of dust? Man delights not me; no, nor Woman neither;\n",
      "Hamlet (1599-1602), Act II, Scene 2,\n",
      "web of our life is of a mingled yarn, good and ill together.\n",
      "All's Well That Ends Well (1600s), Act IV, scene 3, line 80.\n",
      "O excellent! I love long life better than figs.\n",
      "Antony and Cleopatra (1600s), Act I, scene 2, line 32.\n",
      "And this our life, exempt from public haunt,\n",
      "Finds tongues in trees, books in the running brooks,\n",
      "Sermons in stones, and good in everything.\n"
     ]
    }
   ],
   "source": [
    "#print multiline string in python\n",
    "P= '''What a piece of work is man, How noble in reason, how infinite in faculty, In form and moving how express and admirable, In action how like an Angel, In apprehension how like a god, The beauty of the world, The paragon of animals. And yet to me, what is this quintessence of dust? Man delights not me; no, nor Woman neither;\n",
    "Hamlet (1599-1602), Act II, Scene 2,\n",
    "web of our life is of a mingled yarn, good and ill together.\n",
    "All's Well That Ends Well (1600s), Act IV, scene 3, line 80.\n",
    "O excellent! I love long life better than figs.\n",
    "Antony and Cleopatra (1600s), Act I, scene 2, line 32.\n",
    "And this our life, exempt from public haunt,\n",
    "Finds tongues in trees, books in the running brooks,\n",
    "Sermons in stones, and good in everything.'''\n",
    "print(P) "
   ]
  },
  {
   "cell_type": "code",
   "execution_count": 13,
   "metadata": {},
   "outputs": [
    {
     "name": "stdout",
     "output_type": "stream",
     "text": [
      "They didn't do the work\n",
      "They didn't do the work\n"
     ]
    }
   ],
   "source": [
    "S = \"They didn't do the work\"\n",
    "print(S)\n",
    "P = '''They didn't do the work''' #when we use a apostrophe we can use \"double quote\" or \"single triple quote\"\n",
    "print(P)"
   ]
  },
  {
   "cell_type": "code",
   "execution_count": 16,
   "metadata": {},
   "outputs": [
    {
     "name": "stdout",
     "output_type": "stream",
     "text": [
      "['Ahmedabad', 'Chennai', 'Surat', 'Coimbatore']\n",
      "Coimbatore\n",
      "Updated cities: ['Ahmedabad', 'Chennai', 'Surat', 'Coimbatore', 'Tuskany']\n"
     ]
    }
   ],
   "source": [
    "#print list of cities\n",
    "Cities=['Ahmedabad','Chennai','Surat','Coimbatore']\n",
    "print(Cities)\n",
    "print(Cities[3]) #print a particular city\n",
    "Cities.append('Tuskany') #append a new city\n",
    "print(\"Updated cities:\",Cities)"
   ]
  },
  {
   "cell_type": "code",
   "execution_count": 4,
   "metadata": {},
   "outputs": [
    {
     "name": "stdout",
     "output_type": "stream",
     "text": [
      "('M.S Dhoni', 'Sachin')\n"
     ]
    }
   ],
   "source": [
    "#print tuple\n",
    "tuple = \"M.S Dhoni\",\"Sachin\"\n",
    "print(tuple)"
   ]
  },
  {
   "cell_type": "code",
   "execution_count": 22,
   "metadata": {},
   "outputs": [
    {
     "name": "stdout",
     "output_type": "stream",
     "text": [
      "{'Sachin': 'Crickter', 'Virat Kholi': 'Crickter', 'Shewag': 'Cricket', 'Ashwin': 'Crickter'}\n",
      "Crickter\n"
     ]
    }
   ],
   "source": [
    "#python dictionary\n",
    "my_dict = {'Crickter' : 'Sachin', 'Crickter' : 'Virat Kholi', 'Crickter' : 'M.S Dhoni' , 'Crickter' : 'Shewag' , 'Crickter' : 'Ashwin'}\n",
    "print (my_dict)\n",
    "print(my_dict['Sachin'])\n"
   ]
  },
  {
   "cell_type": "code",
   "execution_count": 27,
   "metadata": {},
   "outputs": [
    {
     "name": "stdout",
     "output_type": "stream",
     "text": [
      "[105, 108, 'mgblock']\n"
     ]
    }
   ],
   "source": [
    "r=[105,108,'mgblock']; #any data structure can be used\n",
    "print(r)"
   ]
  },
  {
   "cell_type": "code",
   "execution_count": null,
   "metadata": {},
   "outputs": [],
   "source": []
  }
 ],
 "metadata": {
  "kernelspec": {
   "display_name": "Python 3",
   "language": "python",
   "name": "python3"
  },
  "language_info": {
   "codemirror_mode": {
    "name": "ipython",
    "version": 3
   },
   "file_extension": ".py",
   "mimetype": "text/x-python",
   "name": "python",
   "nbconvert_exporter": "python",
   "pygments_lexer": "ipython3",
   "version": "3.7.3"
  }
 },
 "nbformat": 4,
 "nbformat_minor": 2
}
