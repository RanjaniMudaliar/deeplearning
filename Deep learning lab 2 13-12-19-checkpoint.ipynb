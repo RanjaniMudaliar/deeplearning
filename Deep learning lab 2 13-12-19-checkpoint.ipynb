{
 "cells": [
  {
   "cell_type": "code",
   "execution_count": 10,
   "metadata": {},
   "outputs": [],
   "source": [
    "range?"
   ]
  },
  {
   "cell_type": "code",
   "execution_count": 4,
   "metadata": {},
   "outputs": [
    {
     "data": {
      "text/plain": [
       "range(0, 10)"
      ]
     },
     "execution_count": 4,
     "metadata": {},
     "output_type": "execute_result"
    }
   ],
   "source": [
    "range (10) #just to display range value from start to end"
   ]
  },
  {
   "cell_type": "code",
   "execution_count": 5,
   "metadata": {},
   "outputs": [
    {
     "name": "stdout",
     "output_type": "stream",
     "text": [
      "range(0, 10)\n"
     ]
    }
   ],
   "source": [
    "print (range(10))"
   ]
  },
  {
   "cell_type": "code",
   "execution_count": 8,
   "metadata": {},
   "outputs": [
    {
     "name": "stdout",
     "output_type": "stream",
     "text": [
      "0\n",
      "1\n",
      "2\n",
      "3\n",
      "4\n",
      "5\n",
      "6\n",
      "7\n",
      "8\n",
      "9\n"
     ]
    }
   ],
   "source": [
    "for i in range(10):\n",
    "    print(i)"
   ]
  },
  {
   "cell_type": "code",
   "execution_count": 9,
   "metadata": {},
   "outputs": [
    {
     "name": "stdout",
     "output_type": "stream",
     "text": [
      "I loved the weather Today in vellore\n",
      "I loved the weather Today in vellore\n",
      "I loved the weather Today in vellore\n",
      "I loved the weather Today in vellore\n",
      "I loved the weather Today in vellore\n",
      "I loved the weather Today in vellore\n",
      "I loved the weather Today in vellore\n"
     ]
    }
   ],
   "source": [
    "for i in range(7):\n",
    "    print(\"I loved the weather Today in vellore\")"
   ]
  },
  {
   "cell_type": "code",
   "execution_count": 14,
   "metadata": {},
   "outputs": [
    {
     "name": "stdout",
     "output_type": "stream",
     "text": [
      "1\n",
      "8\n",
      "27\n",
      "64\n",
      "125\n",
      "216\n",
      "343\n",
      "512\n",
      "729\n",
      "1000\n"
     ]
    }
   ],
   "source": [
    "#cubes of number from 1 to 10 using for loop\n",
    "for i in range(1,11):\n",
    "    print(i**3)"
   ]
  },
  {
   "cell_type": "code",
   "execution_count": 16,
   "metadata": {},
   "outputs": [
    {
     "name": "stdout",
     "output_type": "stream",
     "text": [
      "1\n",
      "8\n",
      "27\n",
      "64\n",
      "125\n",
      "216\n",
      "343\n",
      "512\n",
      "729\n",
      "1000\n"
     ]
    }
   ],
   "source": [
    "#cubes using while loop\n",
    "i=1\n",
    "while i<11:\n",
    "    print(i**3)\n",
    "    i=i+1"
   ]
  },
  {
   "cell_type": "code",
   "execution_count": 17,
   "metadata": {},
   "outputs": [
    {
     "name": "stdout",
     "output_type": "stream",
     "text": [
      "1\n",
      "4\n",
      "7\n",
      "10\n"
     ]
    }
   ],
   "source": [
    "for i in range (1,11,3):#step count by giving the value 3\n",
    "    print(i)"
   ]
  },
  {
   "cell_type": "code",
   "execution_count": 23,
   "metadata": {},
   "outputs": [
    {
     "name": "stdout",
     "output_type": "stream",
     "text": [
      "1\n",
      "8\n",
      "27\n",
      "64\n",
      "125\n",
      "216\n",
      "343\n",
      "512\n",
      "729\n",
      "1000\n",
      "Time taken for while loop: 0.004050731658935547\n",
      "1\n",
      "8\n",
      "27\n",
      "64\n",
      "125\n",
      "216\n",
      "343\n",
      "512\n",
      "729\n",
      "1000\n",
      "The time taken for for loop: 0.0\n"
     ]
    }
   ],
   "source": [
    "#check the time of while and for loop\n",
    "import time\n",
    "start_time = time.time()\n",
    "i=1\n",
    "while i<11:\n",
    "    print(i**3)\n",
    "    i=i+1\n",
    "end_time = time.time()\n",
    "print(\"Time taken for while loop:\",end_time - start_time)\n",
    "\n",
    "#for loop\n",
    "start_time = time.time()\n",
    "for i in range(1,11):\n",
    "    print(i**3)\n",
    "end_time = time.time()\n",
    "print(\"The time taken for for loop:\",end_time - start_time)\n"
   ]
  },
  {
   "cell_type": "code",
   "execution_count": 28,
   "metadata": {},
   "outputs": [
    {
     "name": "stdout",
     "output_type": "stream",
     "text": [
      "1\n",
      "8\n",
      "27\n",
      "64\n",
      "125\n",
      "216\n",
      "343\n",
      "512\n",
      "729\n",
      "1000\n"
     ]
    }
   ],
   "source": [
    "#using def\n",
    "def cube(a):#function description\n",
    "        r = a**3\n",
    "        return r\n",
    "for i in range (1,11):\n",
    "    result = cube(i)#calling function\n",
    "    print(result)\n",
    "    \n",
    "\n"
   ]
  },
  {
   "cell_type": "code",
   "execution_count": 12,
   "metadata": {},
   "outputs": [
    {
     "name": "stdout",
     "output_type": "stream",
     "text": [
      "4.0\n",
      "720\n",
      "9.0\n",
      "1\n",
      "1.0\n"
     ]
    }
   ],
   "source": [
    "#5 mathematical functions\n",
    "import math as m\n",
    "a = m.sqrt(16) #sqrt function\n",
    "print(a)\n",
    "\n",
    "b = m.factorial(6)#factorial function to directly calculate\n",
    "print(b)\n",
    "\n",
    "c = m.pow(3,2)#power function to calculate power of any number\n",
    "print(c)\n",
    "\n",
    "d = m.gcd(4,5)#greatest common divisor of the given number\n",
    "print(d)\n",
    "\n",
    "e = m.log(2,2)#logarithmic value of the given number\n",
    "print(e)"
   ]
  },
  {
   "cell_type": "code",
   "execution_count": 14,
   "metadata": {},
   "outputs": [
    {
     "name": "stdout",
     "output_type": "stream",
     "text": [
      "9.0\n"
     ]
    }
   ],
   "source": [
    "c = m.pow(3,2)# we have imported the math file in another cell and when we shutdown and open again use that imported file in another cell it will give error\n",
    "print(c)"
   ]
  },
  {
   "cell_type": "code",
   "execution_count": null,
   "metadata": {},
   "outputs": [],
   "source": []
  }
 ],
 "metadata": {
  "kernelspec": {
   "display_name": "Python 3",
   "language": "python",
   "name": "python3"
  },
  "language_info": {
   "codemirror_mode": {
    "name": "ipython",
    "version": 3
   },
   "file_extension": ".py",
   "mimetype": "text/x-python",
   "name": "python",
   "nbconvert_exporter": "python",
   "pygments_lexer": "ipython3",
   "version": "3.7.3"
  }
 },
 "nbformat": 4,
 "nbformat_minor": 2
}
